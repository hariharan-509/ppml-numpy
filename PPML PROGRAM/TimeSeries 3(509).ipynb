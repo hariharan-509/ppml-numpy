{
 "cells": [
  {
   "cell_type": "code",
   "execution_count": 4,
   "id": "87f98725",
   "metadata": {},
   "outputs": [
    {
     "name": "stdout",
     "output_type": "stream",
     "text": [
      "Date Index \n",
      " 2011-01-02   -0.616732\n",
      "2011-01-05    0.030006\n",
      "2011-01-07    0.581312\n",
      "2011-01-08   -0.099103\n",
      "2011-01-10    0.304511\n",
      "2011-01-12   -1.062293\n",
      "dtype: float64\n",
      "\n",
      "Date index alone from the series:\n",
      " DatetimeIndex(['2011-01-02', '2011-01-05', '2011-01-07', '2011-01-08',\n",
      "               '2011-01-10', '2011-01-12'],\n",
      "              dtype='datetime64[ns]', freq=None)\n"
     ]
    }
   ],
   "source": [
    "import pandas as pd\n",
    "import numpy as np\n",
    "from datetime import datetime\n",
    "\n",
    "#create a date variable that contains the dates\n",
    "dates = [datetime(2011, 1, 2),\n",
    "datetime(2011, 1, 5),\n",
    "datetime(2011, 1, 7),\n",
    "datetime(2011, 1, 8),\n",
    "datetime(2011, 1, 10),\n",
    "datetime(2011, 1, 12)]\n",
    "\n",
    "#with this date object, create a series\n",
    "ts = pd.Series(np.random.randn(6), index=dates)\n",
    "print(\"Date Index \\n\",ts)\n",
    "print(\"\\nDate index alone from the series:\\n\",ts.index)"
   ]
  },
  {
   "cell_type": "code",
   "execution_count": 5,
   "id": "2e8433a9",
   "metadata": {},
   "outputs": [
    {
     "name": "stdout",
     "output_type": "stream",
     "text": [
      "\n",
      " Second index:\n",
      " 2011-01-07 00:00:00\n"
     ]
    }
   ],
   "source": [
    "stamp=ts.index[2] \n",
    "print(\"\\n Second index:\\n\",stamp)"
   ]
  },
  {
   "cell_type": "code",
   "execution_count": 10,
   "id": "2308fa8f",
   "metadata": {},
   "outputs": [
    {
     "name": "stdout",
     "output_type": "stream",
     "text": [
      "\n",
      "Datarange upto 1000 days:\n",
      " 2000-01-01   -0.560285\n",
      "2000-01-02    1.846122\n",
      "2000-01-03    0.585466\n",
      "2000-01-04    0.360494\n",
      "2000-01-05    1.068934\n",
      "                ...   \n",
      "2002-09-22   -1.064594\n",
      "2002-09-23    1.338948\n",
      "2002-09-24   -0.458859\n",
      "2002-09-25   -0.271847\n",
      "2002-09-26   -0.432822\n",
      "Freq: D, Length: 1000, dtype: float64\n",
      "\n",
      "Date range-2001 year:\n",
      " 2001-01-01    1.131128\n",
      "2001-01-02    0.774381\n",
      "2001-01-03   -0.150613\n",
      "2001-01-04   -0.442246\n",
      "2001-01-05    1.227491\n",
      "                ...   \n",
      "2001-12-27    1.192024\n",
      "2001-12-28    0.958659\n",
      "2001-12-29    1.011533\n",
      "2001-12-30    0.298903\n",
      "2001-12-31   -2.532896\n",
      "Freq: D, Length: 365, dtype: float64\n"
     ]
    }
   ],
   "source": [
    "#play like a ball with long-times series\n",
    "longer_ts=pd.Series(np.random.randn(1000),\n",
    "index=pd.date_range(\"2000-01-01;\",periods=1000))\n",
    "print(\"\\nDate range upto 1000 days:\\n\",longer_ts)\n",
    "print(\"\\nDate range-2001 year:\\n\",longer_ts[\"2001\"])"
   ]
  },
  {
   "cell_type": "code",
   "execution_count": 12,
   "id": "5d36bd75",
   "metadata": {},
   "outputs": [
    {
     "name": "stdout",
     "output_type": "stream",
     "text": [
      "\n",
      "Date range-05 month 2001 year:\n",
      " 2001-05-01   -0.396409\n",
      "2001-05-02   -0.577371\n",
      "2001-05-03    1.171600\n",
      "2001-05-04   -0.635756\n",
      "2001-05-05   -1.173156\n",
      "2001-05-06    1.102186\n",
      "2001-05-07    1.054927\n",
      "2001-05-08    0.983566\n",
      "2001-05-09   -1.179048\n",
      "2001-05-10   -0.423713\n",
      "2001-05-11    0.722573\n",
      "2001-05-12   -0.298477\n",
      "2001-05-13   -1.188014\n",
      "2001-05-14    1.783504\n",
      "2001-05-15    1.502378\n",
      "2001-05-16   -0.122799\n",
      "2001-05-17   -0.004614\n",
      "2001-05-18   -0.178669\n",
      "2001-05-19    0.038432\n",
      "2001-05-20   -0.899859\n",
      "2001-05-21    1.359690\n",
      "2001-05-22    1.034585\n",
      "2001-05-23   -0.040288\n",
      "2001-05-24   -0.235288\n",
      "2001-05-25   -1.145320\n",
      "2001-05-26    1.630912\n",
      "2001-05-27    0.154607\n",
      "2001-05-28   -0.699454\n",
      "2001-05-29   -0.206986\n",
      "2001-05-30   -1.433945\n",
      "2001-05-31   -3.165401\n",
      "Freq: D, dtype: float64\n",
      "\n",
      "Date range-first few dates in 2000 year:\n",
      " 2000-01-01   -0.560285\n",
      "2000-01-02    1.846122\n",
      "2000-01-03    0.585466\n",
      "2000-01-04    0.360494\n",
      "2000-01-05    1.068934\n",
      "Freq: D, dtype: float64\n"
     ]
    }
   ],
   "source": [
    "print(\"\\nDate range-05 month 2001 year:\\n\",longer_ts[\"2001-05\"])\n",
    "print(\"\\nDate range-first few dates in 2000 year:\\n\",longer_ts[\"2000\"].head())"
   ]
  },
  {
   "cell_type": "code",
   "execution_count": 15,
   "id": "5127b639",
   "metadata": {},
   "outputs": [
    {
     "name": "stdout",
     "output_type": "stream",
     "text": [
      "\n",
      " Date range-first 15 dates in 02 month 2001 year:\n",
      " 2000-02-01   -0.710465\n",
      "2000-02-02   -0.191826\n",
      "2000-02-03   -0.998539\n",
      "2000-02-04   -0.847864\n",
      "2000-02-05    0.169694\n",
      "2000-02-06   -2.157489\n",
      "2000-02-07    0.613184\n",
      "2000-02-08   -0.139454\n",
      "2000-02-09   -0.282909\n",
      "2000-02-10   -1.174210\n",
      "2000-02-11   -0.517493\n",
      "2000-02-12    0.893132\n",
      "2000-02-13    1.413353\n",
      "2000-02-14    0.949589\n",
      "2000-02-15    0.119646\n",
      "Freq: D, dtype: float64\n",
      "\n",
      " Date range-rom 26-9-2001:\n",
      " 2000-09-26    0.634433\n",
      "2000-09-27    0.559166\n",
      "2000-09-28   -1.888400\n",
      "2000-09-29   -0.902428\n",
      "2000-09-30   -0.104597\n",
      "                ...   \n",
      "2002-09-22   -1.064594\n",
      "2002-09-23    1.338948\n",
      "2002-09-24   -0.458859\n",
      "2002-09-25   -0.271847\n",
      "2002-09-26   -0.432822\n",
      "Freq: D, Length: 731, dtype: float64\n"
     ]
    }
   ],
   "source": [
    "print(\"\\n Date range-first 15 dates in 02 month 2001 year:\\n\",longer_ts[\"2000-02\"].head(15))\n",
    "print(\"\\n Date range-rom 26-9-2001:\\n\",longer_ts[datetime(2000,9,26):])"
   ]
  },
  {
   "cell_type": "code",
   "execution_count": 16,
   "id": "dfd1bdc1",
   "metadata": {},
   "outputs": [
    {
     "name": "stdout",
     "output_type": "stream",
     "text": [
      "\n",
      "Date range from 26-9-2001 to 25-9-2002:\n",
      " 2001-09-26    1.177976\n",
      "2001-09-27    0.199749\n",
      "2001-09-28   -0.816573\n",
      "2001-09-29   -0.017795\n",
      "2001-09-30   -0.768146\n",
      "                ...   \n",
      "2002-09-21   -0.785935\n",
      "2002-09-22   -1.064594\n",
      "2002-09-23    1.338948\n",
      "2002-09-24   -0.458859\n",
      "2002-09-25   -0.271847\n",
      "Freq: D, Length: 365, dtype: float64\n"
     ]
    }
   ],
   "source": [
    "print(\"\\nDate range from 26-9-2001 to 25-9-2002:\\n\",longer_ts[datetime(2001,9,26):datetime(2002,9,25)])\n"
   ]
  },
  {
   "cell_type": "code",
   "execution_count": null,
   "id": "6b8706a4",
   "metadata": {},
   "outputs": [],
   "source": []
  }
 ],
 "metadata": {
  "kernelspec": {
   "display_name": "Python 3 (ipykernel)",
   "language": "python",
   "name": "python3"
  },
  "language_info": {
   "codemirror_mode": {
    "name": "ipython",
    "version": 3
   },
   "file_extension": ".py",
   "mimetype": "text/x-python",
   "name": "python",
   "nbconvert_exporter": "python",
   "pygments_lexer": "ipython3",
   "version": "3.11.3"
  }
 },
 "nbformat": 4,
 "nbformat_minor": 5
}
