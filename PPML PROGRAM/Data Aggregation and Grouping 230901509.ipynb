{
 "cells": [
  {
   "cell_type": "code",
   "execution_count": 5,
   "id": "5839313d",
   "metadata": {},
   "outputs": [
    {
     "name": "stdout",
     "output_type": "stream",
     "text": [
      "\n",
      " Original DataFrame: \n",
      "     Name Category  Value  Score\n",
      "0  Alice        A      1     77\n",
      "1    Raj        F      3     65\n",
      "2    Raj        U      2     90\n",
      "3  Subbu        A      1     91\n",
      "4   Hari        A      4     82\n",
      "5    Raj        F      4     94\n",
      "\n",
      " Group and aggregate with one column: \n",
      "     Name  Value\n",
      "0  Alice      1\n",
      "1   Hari      4\n",
      "2    Raj      9\n",
      "3  Subbu      1\n"
     ]
    }
   ],
   "source": [
    "import numpy as np\n",
    "import pandas as pd\n",
    "df=pd.DataFrame({'Name':['Alice','Raj','Raj','Subbu','Hari','Raj'],'Category':['A','F','U','A','A','F'],'Value':np.random.randint(1,5,size=6),'Score':np.random.randint(60,100,size=6)})\n",
    "print(\"\\n Original DataFrame: \\n\",df)\n",
    "df1=df.groupby(('Name'),as_index=False)['Value'].sum()\n",
    "print(\"\\n Group and aggregate with one column: \\n\",df1)"
   ]
  },
  {
   "cell_type": "code",
   "execution_count": 6,
   "id": "d1e8a423",
   "metadata": {},
   "outputs": [
    {
     "name": "stdout",
     "output_type": "stream",
     "text": [
      "\n",
      " Group and aggregate with two column sum: \n",
      "     Name  Value  Score\n",
      "0  Alice      1     77\n",
      "1   Hari      4     82\n",
      "2    Raj      9    249\n",
      "3  Subbu      1     91\n"
     ]
    }
   ],
   "source": [
    "df2=df.groupby(('Name'),as_index=False)[['Value','Score']].sum()\n",
    "print(\"\\n Group and aggregate with two column sum: \\n\",df2)"
   ]
  },
  {
   "cell_type": "code",
   "execution_count": 7,
   "id": "cf89da13",
   "metadata": {},
   "outputs": [
    {
     "name": "stdout",
     "output_type": "stream",
     "text": [
      "\n",
      " Group and aggregate with one column sum: \n",
      "     Name  Value\n",
      "0  Alice      1\n",
      "1   Hari      4\n",
      "2    Raj      9\n",
      "3  Subbu      1\n"
     ]
    }
   ],
   "source": [
    "df3=df.groupby(('Name'),as_index=False)['Value'].agg('sum')\n",
    "print(\"\\n Group and aggregate with one column sum: \\n\",df3)"
   ]
  },
  {
   "cell_type": "code",
   "execution_count": 8,
   "id": "7d63dd60",
   "metadata": {},
   "outputs": [
    {
     "name": "stdout",
     "output_type": "stream",
     "text": [
      "\n",
      " Group by name and multiple aggregation: \n",
      "       Value             \n",
      "        sum mean min max\n",
      "Name                    \n",
      "Alice     1  1.0   1   1\n",
      "Hari      4  4.0   4   4\n",
      "Raj       9  3.0   2   4\n",
      "Subbu     1  1.0   1   1\n"
     ]
    }
   ],
   "source": [
    "df4=df.groupby('Name').agg({'Value':['sum','mean','min','max']})\n",
    "print(\"\\n Group by name and multiple aggregation: \\n\",df4)"
   ]
  },
  {
   "cell_type": "code",
   "execution_count": 9,
   "id": "b436db95",
   "metadata": {},
   "outputs": [
    {
     "name": "stdout",
     "output_type": "stream",
     "text": [
      "\n",
      " Group and count: \n",
      "     Name  Value\n",
      "0  Alice      1\n",
      "1   Hari      1\n",
      "2    Raj      3\n",
      "3  Subbu      1\n"
     ]
    }
   ],
   "source": [
    "df5=df.groupby(('Name'),as_index=False)['Value'].count()\n",
    "print(\"\\n Group and count: \\n\",df5)"
   ]
  },
  {
   "cell_type": "code",
   "execution_count": 10,
   "id": "86e42bf0",
   "metadata": {},
   "outputs": [
    {
     "name": "stdout",
     "output_type": "stream",
     "text": [
      "\n",
      " Group and count: \n",
      "        Category  Value  Score\n",
      "Name                         \n",
      "Alice         1      1      1\n",
      "Hari          1      1      1\n",
      "Raj           3      3      3\n",
      "Subbu         1      1      1\n"
     ]
    }
   ],
   "source": [
    "df6=df.groupby(('Name')).count()\n",
    "print(\"\\n Group and count: \\n\",df6)"
   ]
  },
  {
   "cell_type": "code",
   "execution_count": 11,
   "id": "2d27e5bf",
   "metadata": {},
   "outputs": [
    {
     "name": "stdout",
     "output_type": "stream",
     "text": [
      "\n",
      " Group and display from first: \n",
      "     Name  Value\n",
      "0  Alice      1\n",
      "1   Hari      4\n",
      "2    Raj      3\n",
      "3  Subbu      1\n",
      "\n",
      " Group and display from first: \n",
      "       Category  Value  Score\n",
      "Name                        \n",
      "Alice        A      1     77\n",
      "Hari         A      4     82\n",
      "Raj          F      3     65\n",
      "Subbu        A      1     91\n"
     ]
    }
   ],
   "source": [
    "df7=df.groupby(('Name'),as_index=False)['Value'].first()\n",
    "print(\"\\n Group and display from first: \\n\",df7)\n",
    "df8=df.groupby(('Name')).first()\n",
    "print(\"\\n Group and display from first: \\n\",df8)"
   ]
  },
  {
   "cell_type": "code",
   "execution_count": 12,
   "id": "dbbd707f",
   "metadata": {},
   "outputs": [
    {
     "name": "stdout",
     "output_type": "stream",
     "text": [
      "\n",
      " Group and display from last: \n",
      "     Name  Value\n",
      "0  Alice      1\n",
      "1   Hari      4\n",
      "2    Raj      4\n",
      "3  Subbu      1\n",
      "\n",
      " Group and display from last: \n",
      "       Category  Value  Score\n",
      "Name                        \n",
      "Alice        A      1     77\n",
      "Hari         A      4     82\n",
      "Raj          F      4     94\n",
      "Subbu        A      1     91\n"
     ]
    }
   ],
   "source": [
    "df9=df.groupby(('Name'),as_index=False)['Value'].last()\n",
    "print(\"\\n Group and display from last: \\n\",df9)\n",
    "df10=df.groupby(('Name')).last()\n",
    "print(\"\\n Group and display from last: \\n\",df10)"
   ]
  },
  {
   "cell_type": "code",
   "execution_count": 13,
   "id": "e36a2738",
   "metadata": {},
   "outputs": [
    {
     "name": "stdout",
     "output_type": "stream",
     "text": [
      "\n",
      " Group and display from size: \n",
      "     Name  size\n",
      "0  Alice     1\n",
      "1   Hari     1\n",
      "2    Raj     3\n",
      "3  Subbu     1\n",
      "\n",
      " Group and display from size: \n",
      " Name\n",
      "Alice    1\n",
      "Hari     1\n",
      "Raj      3\n",
      "Subbu    1\n",
      "dtype: int64\n"
     ]
    }
   ],
   "source": [
    "df11=df.groupby(('Name'),as_index=False)['Value'].size()\n",
    "print(\"\\n Group and display from size: \\n\",df11)\n",
    "df12=df.groupby(('Name')).size()\n",
    "print(\"\\n Group and display from size: \\n\",df12)"
   ]
  },
  {
   "cell_type": "code",
   "execution_count": null,
   "id": "dbffc2c8",
   "metadata": {},
   "outputs": [],
   "source": []
  }
 ],
 "metadata": {
  "kernelspec": {
   "display_name": "Python 3 (ipykernel)",
   "language": "python",
   "name": "python3"
  },
  "language_info": {
   "codemirror_mode": {
    "name": "ipython",
    "version": 3
   },
   "file_extension": ".py",
   "mimetype": "text/x-python",
   "name": "python",
   "nbconvert_exporter": "python",
   "pygments_lexer": "ipython3",
   "version": "3.11.5"
  }
 },
 "nbformat": 4,
 "nbformat_minor": 5
}
