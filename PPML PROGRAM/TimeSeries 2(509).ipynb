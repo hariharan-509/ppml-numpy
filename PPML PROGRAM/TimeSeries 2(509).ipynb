{
 "cells": [
  {
   "cell_type": "code",
   "execution_count": 1,
   "id": "052abc7e",
   "metadata": {},
   "outputs": [
    {
     "name": "stdout",
     "output_type": "stream",
     "text": [
      "2025-04-10 13:43:23.165826\n"
     ]
    }
   ],
   "source": [
    "import datetime\n",
    "cd=datetime.datetime.now()\n",
    "print(cd)"
   ]
  },
  {
   "cell_type": "code",
   "execution_count": 2,
   "id": "bb9a06db",
   "metadata": {},
   "outputs": [
    {
     "name": "stdout",
     "output_type": "stream",
     "text": [
      "\n",
      " Twqo-digit year: 25\n"
     ]
    }
   ],
   "source": [
    "res=cd.strftime(\"%y\")\n",
    "print(\"\\n Twqo-digit year:\",res)"
   ]
  },
  {
   "cell_type": "code",
   "execution_count": 3,
   "id": "750798c8",
   "metadata": {},
   "outputs": [
    {
     "name": "stdout",
     "output_type": "stream",
     "text": [
      "\n",
      "Two-digit month[01,12]: 25\n"
     ]
    }
   ],
   "source": [
    "res1=cd.strftime(\"%m\")\n",
    "print(\"\\nTwo-digit month[01,12]:\",res)"
   ]
  },
  {
   "cell_type": "code",
   "execution_count": 4,
   "id": "0334a767",
   "metadata": {},
   "outputs": [
    {
     "name": "stdout",
     "output_type": "stream",
     "text": [
      "\n",
      "Short version of month Apr\n"
     ]
    }
   ],
   "source": [
    "res=cd.strftime(\"%b\")\n",
    "print(\"\\nShort version of month\",res)"
   ]
  },
  {
   "cell_type": "code",
   "execution_count": 5,
   "id": "63a14d25",
   "metadata": {},
   "outputs": [
    {
     "name": "stdout",
     "output_type": "stream",
     "text": [
      "\n",
      "Days of the year: 100\n"
     ]
    }
   ],
   "source": [
    "res=cd.strftime(\"%j\")\n",
    "print(\"\\nDays of the year:\",res)"
   ]
  },
  {
   "cell_type": "code",
   "execution_count": 9,
   "id": "59595842",
   "metadata": {},
   "outputs": [
    {
     "name": "stdout",
     "output_type": "stream",
     "text": [
      "\n",
      "Shortcut for %m/%d/%y: 04/10/25\n"
     ]
    }
   ],
   "source": [
    "res=cd.strftime(\"%D\")\n",
    "print(\"\\nShortcut for %m/%d/%y:\",res)"
   ]
  },
  {
   "cell_type": "code",
   "execution_count": 10,
   "id": "c8decbdd",
   "metadata": {},
   "outputs": [
    {
     "name": "stdout",
     "output_type": "stream",
     "text": [
      "\n",
      "Two-digit day[01,31]: 10\n"
     ]
    }
   ],
   "source": [
    "res=cd.strftime(\"%d\")\n",
    "print(\"\\nTwo-digit day[01,31]:\",res)"
   ]
  },
  {
   "cell_type": "code",
   "execution_count": 11,
   "id": "55a536d4",
   "metadata": {},
   "outputs": [
    {
     "name": "stdout",
     "output_type": "stream",
     "text": [
      "\n",
      "Short version of day Thu\n"
     ]
    }
   ],
   "source": [
    "res=cd.strftime(\"%a\")\n",
    "print(\"\\nShort version of day\",res)"
   ]
  },
  {
   "cell_type": "code",
   "execution_count": 12,
   "id": "89d8237d",
   "metadata": {},
   "outputs": [
    {
     "name": "stdout",
     "output_type": "stream",
     "text": [
      "\n",
      "Full name of a day: A\n"
     ]
    }
   ],
   "source": [
    "res=cd.strftime(\"A\")\n",
    "print(\"\\nFull name of a day:\",res)"
   ]
  },
  {
   "cell_type": "code",
   "execution_count": 13,
   "id": "56cf340d",
   "metadata": {},
   "outputs": [
    {
     "name": "stdout",
     "output_type": "stream",
     "text": [
      "\n",
      "Hour(24-hour clock)[00,23]: 13\n"
     ]
    }
   ],
   "source": [
    "res=cd.strftime(\"%H\")\n",
    "print(\"\\nHour(24-hour clock)[00,23]:\",res)"
   ]
  },
  {
   "cell_type": "code",
   "execution_count": 14,
   "id": "d22c2c22",
   "metadata": {},
   "outputs": [
    {
     "name": "stdout",
     "output_type": "stream",
     "text": [
      "\n",
      "Hour (12-hour clock)[01,12] 01\n"
     ]
    }
   ],
   "source": [
    "res=cd.strftime(\"%I\")\n",
    "print(\"\\nHour (12-hour clock)[01,12]\",res)"
   ]
  },
  {
   "cell_type": "code",
   "execution_count": 15,
   "id": "544f672e",
   "metadata": {},
   "outputs": [
    {
     "name": "stdout",
     "output_type": "stream",
     "text": [
      "\n",
      "Two-digit minute[00,59]: 43\n"
     ]
    }
   ],
   "source": [
    "res=cd.strftime(\"%M\")\n",
    "print(\"\\nTwo-digit minute[00,59]:\",res)"
   ]
  },
  {
   "cell_type": "code",
   "execution_count": 16,
   "id": "f0213123",
   "metadata": {},
   "outputs": [
    {
     "name": "stdout",
     "output_type": "stream",
     "text": [
      "\n",
      "Second (00,61](seconds 60,61 account for leap seconds): 23\n"
     ]
    }
   ],
   "source": [
    "res=cd.strftime(\"%S\")\n",
    "print(\"\\nSecond (00,61](seconds 60,61 account for leap seconds):\",res)"
   ]
  },
  {
   "cell_type": "code",
   "execution_count": 17,
   "id": "a05303a1",
   "metadata": {},
   "outputs": [
    {
     "name": "stdout",
     "output_type": "stream",
     "text": [
      "\n",
      "Shortcut for %Y-%m-%d(eg., 2012-4-18): 2025-04-10\n"
     ]
    }
   ],
   "source": [
    "res=cd.strftime(\"%F\")\n",
    "print(\"\\nShortcut for %Y-%m-%d(eg., 2012-4-18):\",res)"
   ]
  },
  {
   "cell_type": "code",
   "execution_count": 18,
   "id": "35566509",
   "metadata": {},
   "outputs": [
    {
     "name": "stdout",
     "output_type": "stream",
     "text": [
      "\n",
      "Microsecond as an integer,zero-padded(from 000000 to 999999); 165826\n"
     ]
    }
   ],
   "source": [
    "res=cd.strftime(\"%f\")\n",
    "print(\"\\nMicrosecond as an integer,zero-padded(from 000000 to 999999);\",res)"
   ]
  },
  {
   "cell_type": "code",
   "execution_count": 19,
   "id": "08fcb859",
   "metadata": {},
   "outputs": [
    {
     "name": "stdout",
     "output_type": "stream",
     "text": [
      "\n",
      "Locale equvalent of AM or PM: PM\n"
     ]
    }
   ],
   "source": [
    "res=cd.strftime(\"%p\")\n",
    "print(\"\\nLocale equvalent of AM or PM:\",res)"
   ]
  },
  {
   "cell_type": "code",
   "execution_count": 20,
   "id": "249c9b5e",
   "metadata": {},
   "outputs": [
    {
     "name": "stdout",
     "output_type": "stream",
     "text": [
      "\n",
      "Locale-appropriate formatted date: 04/10/25\n"
     ]
    }
   ],
   "source": [
    "res=cd.strftime(\"%x\")\n",
    "print(\"\\nLocale-appropriate formatted date:\",res)"
   ]
  },
  {
   "cell_type": "code",
   "execution_count": 21,
   "id": "7f0565d9",
   "metadata": {},
   "outputs": [
    {
     "name": "stdout",
     "output_type": "stream",
     "text": [
      "\n",
      "Locale-appropriate time: 13:43:23\n"
     ]
    }
   ],
   "source": [
    "res=cd.strftime(\"%X\")\n",
    "print(\"\\nLocale-appropriate time:\",res)"
   ]
  },
  {
   "cell_type": "code",
   "execution_count": null,
   "id": "5eabf471",
   "metadata": {},
   "outputs": [],
   "source": []
  }
 ],
 "metadata": {
  "kernelspec": {
   "display_name": "Python 3 (ipykernel)",
   "language": "python",
   "name": "python3"
  },
  "language_info": {
   "codemirror_mode": {
    "name": "ipython",
    "version": 3
   },
   "file_extension": ".py",
   "mimetype": "text/x-python",
   "name": "python",
   "nbconvert_exporter": "python",
   "pygments_lexer": "ipython3",
   "version": "3.11.3"
  }
 },
 "nbformat": 4,
 "nbformat_minor": 5
}
